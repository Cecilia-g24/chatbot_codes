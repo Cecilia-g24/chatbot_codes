{
 "cells": [
  {
   "cell_type": "code",
   "execution_count": 32,
   "id": "8b1d44d1",
   "metadata": {},
   "outputs": [],
   "source": [
    "import re\n",
    "import os\n",
    "import pandas as pd\n",
    "import csv\n",
    "\n",
    "\n",
    "def file_convert (txt_path,pid):\n",
    "    \n",
    "    # initialize dict, columns \"pID\", \"interview_text\" and tag\n",
    "    csv_content = {}\n",
    "    csv_content [\"pID\"] = pid\n",
    "    csv_content [\"interview_text\"]= \"\"\n",
    "    tag = -1\n",
    "\n",
    "\n",
    "    with open(txt_path, \"r\", encoding=\"utf-8\",errors=\"replace\") as f:\n",
    "        full_contents=[l.strip() for l in f.readlines()]\n",
    "        for line in full_contents:\n",
    "            # if \"start of chat interview\" in line, record interview text\n",
    "            if tag == 0 and \"Questionnaire\" not in line:\n",
    "                csv_content [\"interview_text\"]+=line+\"\\n\"\n",
    "            # if tag n detected, split and record content\n",
    "            if tag > 0 and \"Questionnaire\" not in line:\n",
    "                infos = line.split(\":\")\n",
    "                if infos[0] != \"\":\n",
    "                    csv_content[f\"Q{tag}_\"+str(infos[0])]=infos[-1]\n",
    "            # if \"Questionnaire\" in line, set tag = n from (Qn)\n",
    "            if \"Questionnaire\" in line:\n",
    "                match = re.search(r\"Questionnaire\\s+(\\d+)\", line)\n",
    "                tag = int(match.group(1))\n",
    "            # if \"start of chat interview\" in line, set tag = 0\n",
    "            if \"Start of Chat Interview\" in line:\n",
    "                tag = 0\n",
    "    \n",
    "    return csv_content\n",
    "\n",
    "\n",
    "TRANSCRIPTS_DIR = \"../data/transcripts\"\n",
    "OUTPUT_DIR = \"../data\\\\result_csvs\"\n",
    "file_names = [fname for fname in os.listdir(TRANSCRIPTS_DIR) if fname.endswith(\".txt\")]\n",
    "\n",
    "\n",
    "for file_name in file_names:\n",
    "    txt_path = os.path.join(TRANSCRIPTS_DIR, file_name)\n",
    "    pid = file_name.split(\".\")[0]\n",
    "    output = file_convert(txt_path,pid)\n",
    "    with open(os.path.join(OUTPUT_DIR, pid+\".csv\"), \"w\", newline=\"\", encoding=\"utf-8\") as f:\n",
    "        writer = csv.DictWriter(f, fieldnames=output.keys())\n",
    "        writer.writeheader()\n",
    "        writer.writerow(output)\n",
    "\n"
   ]
  }
 ],
 "metadata": {
  "kernelspec": {
   "display_name": "NIM",
   "language": "python",
   "name": "python3"
  },
  "language_info": {
   "codemirror_mode": {
    "name": "ipython",
    "version": 3
   },
   "file_extension": ".py",
   "mimetype": "text/x-python",
   "name": "python",
   "nbconvert_exporter": "python",
   "pygments_lexer": "ipython3",
   "version": "3.10.16"
  }
 },
 "nbformat": 4,
 "nbformat_minor": 5
}
